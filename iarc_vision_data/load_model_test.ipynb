{
 "cells": [
  {
   "cell_type": "code",
   "execution_count": 6,
   "metadata": {
    "ExecuteTime": {
     "end_time": "2017-10-31T18:52:48.716719Z",
     "start_time": "2017-10-31T18:52:48.714751Z"
    }
   },
   "outputs": [],
   "source": [
    "import os\n",
    "import numpy as np\n",
    "from skimage.transform import resize\n",
    "from keras.models import load_model\n",
    "from keras.applications.mobilenet import relu6, DepthwiseConv2D"
   ]
  },
  {
   "cell_type": "code",
   "execution_count": 7,
   "metadata": {},
   "outputs": [],
   "source": [
    "class NeuralHeadingPredictor:\n",
    "    def __init__(self, model_path='mobilenet_finetune.hdf5'):\n",
    "        try:\n",
    "            self.model = load_model(model_path, custom_objects={'relu6': relu6, 'DepthwiseConv2D': DepthwiseConv2D})\n",
    "        except Exception as error:\n",
    "            print (\"Model path probably does not exist\")\n",
    "            print (error)\n",
    "    \n",
    "    @staticmethod\n",
    "    def vecToAngle(vec):\n",
    "        return np.degrees(np.arctan2(vec[1], vec[0]))\n",
    "    \n",
    "    def imgToAngle(self, img):\n",
    "        \"\"\"\n",
    "        :param img: bgr image of overhead roomba\n",
    "        \"\"\"\n",
    "        # format image as input for neural network\n",
    "        img = resize(img, (128,128))\n",
    "        img = img[...,::-1]\n",
    "        if len(img.shape == 3):\n",
    "            img = np.expand_dims(img)\n",
    "\n",
    "        # predict angle\n",
    "        angle = self.vecToAngle(self.model.predict(x))\n",
    "        return angle"
   ]
  },
  {
   "cell_type": "code",
   "execution_count": null,
   "metadata": {},
   "outputs": [],
   "source": []
  }
 ],
 "metadata": {
  "kernelspec": {
   "display_name": "Python [conda env:DL-Keras]",
   "language": "python",
   "name": "conda-env-DL-Keras-py"
  },
  "language_info": {
   "codemirror_mode": {
    "name": "ipython",
    "version": 3
   },
   "file_extension": ".py",
   "mimetype": "text/x-python",
   "name": "python",
   "nbconvert_exporter": "python",
   "pygments_lexer": "ipython3",
   "version": "3.6.3"
  }
 },
 "nbformat": 4,
 "nbformat_minor": 2
}
