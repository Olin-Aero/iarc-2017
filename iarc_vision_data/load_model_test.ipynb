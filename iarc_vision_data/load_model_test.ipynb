{
 "cells": [
  {
   "cell_type": "code",
   "execution_count": 10,
   "metadata": {
    "ExecuteTime": {
     "end_time": "2017-10-31T18:52:48.716719Z",
     "start_time": "2017-10-31T18:52:48.714751Z"
    }
   },
   "outputs": [],
   "source": [
    "import os\n",
    "import numpy as np\n",
    "from keras.models import load_model\n",
    "from keras.applications.mobilenet import relu6, DepthwiseConv2D"
   ]
  },
  {
   "cell_type": "code",
   "execution_count": 19,
   "metadata": {},
   "outputs": [],
   "source": [
    "class NeuralHeadingPredictor:\n",
    "    def __init__(self, model_path='mobilenet_finetune.hdf5'):\n",
    "        try:\n",
    "            self.model = load_model(model_path, custom_objects={'relu6': relu6, 'DepthwiseConv2D': DepthwiseConv2D})\n",
    "        except Exception as error:\n",
    "            print (\"Model path probably does not exist\")\n",
    "            print (error)\n",
    "    \n",
    "    @staticmethod\n",
    "    def vecToAngle(vec):\n",
    "        return np.degrees(np.arctan2(vec[1], vec[0]))\n",
    "    \n",
    "    def imgToAngle(self, img):\n",
    "        \"\"\"\n",
    "        :param img: bgr image of overhead roomba\n",
    "        \"\"\"\n",
    "        # format image as input for neural network\n",
    "        img = img[...,::-1]\n",
    "        if len(img.shape == 3):\n",
    "            img = np.expand_dims(img)\n",
    "\n",
    "        # predict angle\n",
    "        angle = self.vecToAngle(self.model.predict(x))\n",
    "        return angle"
   ]
  },
  {
   "cell_type": "code",
   "execution_count": 20,
   "metadata": {},
   "outputs": [
    {
     "name": "stdout",
     "output_type": "stream",
     "text": [
      "Model path does not exist\n",
      "could not findtest\n",
      "Unable to open file (Unable to open file: name = 'test', errno = 2, error message = 'no such file or directory', flags = 0, o_flags = 0)\n"
     ]
    }
   ],
   "source": [
    "model = NeuralHeadingPredictor(model_path='test')"
   ]
  },
  {
   "cell_type": "code",
   "execution_count": null,
   "metadata": {},
   "outputs": [],
   "source": []
  },
  {
   "cell_type": "code",
   "execution_count": null,
   "metadata": {},
   "outputs": [],
   "source": [
    "n = np.random.randint(test)\n",
    "img = Image.fromarray(x_test[n])\n",
    "print(\"True Angle\", vecToAngle(y_test[n]))\n",
    "print(\"Pred Angle\", vecToAngle(y_pred[n]))\n",
    "img"
   ]
  }
 ],
 "metadata": {
  "kernelspec": {
   "display_name": "Python [conda env:DL-Keras]",
   "language": "python",
   "name": "conda-env-DL-Keras-py"
  },
  "language_info": {
   "codemirror_mode": {
    "name": "ipython",
    "version": 3
   },
   "file_extension": ".py",
   "mimetype": "text/x-python",
   "name": "python",
   "nbconvert_exporter": "python",
   "pygments_lexer": "ipython3",
   "version": "3.6.3"
  }
 },
 "nbformat": 4,
 "nbformat_minor": 2
}
