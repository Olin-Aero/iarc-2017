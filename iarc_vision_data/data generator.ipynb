{
 "cells": [
  {
   "cell_type": "markdown",
   "metadata": {},
   "source": [
    "## Imports"
   ]
  },
  {
   "cell_type": "code",
   "execution_count": 1,
   "metadata": {
    "collapsed": true
   },
   "outputs": [],
   "source": [
    "import os\n",
    "from PIL import Image\n",
    "from glob import glob\n",
    "import scipy.misc\n",
    "from random import randrange\n",
    "import copy\n",
    "%matplotlib inline"
   ]
  },
  {
   "cell_type": "markdown",
   "metadata": {},
   "source": [
    "## Helper Functions / Classes"
   ]
  },
  {
   "cell_type": "code",
   "execution_count": 44,
   "metadata": {
    "collapsed": true
   },
   "outputs": [],
   "source": [
    "class ImageGen():\n",
    "    def __init__(self):\n",
    "        self.base_dir = os.getcwd()\n",
    "        self.data_dir = os.path.join(self.base_dir, \"data\")\n",
    "        self.crop_dir = os.path.join(self.data_dir, \"crops\")\n",
    "        self.bg_dir = os.path.join(self.data_dir, \"bgs\")\n",
    "        self.gen_dir = os.path.join(self.data_dir, \"gen\")\n",
    "        \n",
    "        # crop images\n",
    "        self.crop_width = 512\n",
    "        self.get_crops()\n",
    "        self.roomba_meter_ratio = 13.39 * 2.54 / 100\n",
    "        \n",
    "        # background images\n",
    "        self.pixels_per_meter = 600\n",
    "        self.bg_width = 1280\n",
    "        self.bg_height = 720\n",
    "        self.get_bgs()\n",
    "        \n",
    "    def get_crops(self):\n",
    "        \"\"\"\n",
    "        reads in and resizes cropped images into the self.crop_imgs list\n",
    "        \"\"\"\n",
    "        os.chdir(self.crop_dir)\n",
    "        self.crop_filenames = sorted(glob(\"*\"))\n",
    "        self.crop_imgs = [Image.open(filename) for filename in self.crop_filenames]\n",
    "        self.crop_imgs = [self.resize_img(image, self.crop_width) for image in self.crop_imgs]\n",
    "        os.chdir(self.base_dir)\n",
    "        \n",
    "    def get_bgs(self):\n",
    "        \"\"\"\n",
    "        reads in and resizes background images the self.bg_imgs list\n",
    "        \"\"\"\n",
    "        os.chdir(self.bg_dir)\n",
    "        self.bg_filenames = sorted(glob(\"*\"))\n",
    "        self.bg_imgs = [Image.open(filename) for filename in self.bg_filenames]\n",
    "#         self.bg_imgs = [image.resize((self.bg_width, self.bg_height), resample=Image.BILINEAR)\n",
    "#                         for image in self.bg_imgs]\n",
    "        os.chdir(self.base_dir)\n",
    "        \n",
    "    def resize_img(self, img, desired_width):\n",
    "        \"\"\"\n",
    "        resizes target img while preserving width \n",
    "        \n",
    "        Args:\n",
    "            img (PIL Image): the image to be resized\n",
    "            desired_width: the desired width for the resized image\n",
    "            \n",
    "        Returns:\n",
    "            resized_img (PIL Image): the resized image\n",
    "        \"\"\"\n",
    "        width, height = img.size\n",
    "        ratio = width / height\n",
    "        desired_height = int(desired_width / ratio)\n",
    "        resized_img = img.resize((desired_width, desired_height), resample=Image.BILINEAR)\n",
    "        return resized_img\n",
    "    \n",
    "    def crop_center(self, img, width, height):\n",
    "        left  = int((img.width / 2) - (width / 2))\n",
    "        right = left + width\n",
    "        upper = int((img.height / 2) - (height / 2))\n",
    "        lower = upper + height\n",
    "        return img.crop((left, upper, right, lower))\n",
    "        \n",
    "    def overlay_imgs(self, fg, bg, x, y, rot, zoom):\n",
    "        \"\"\"\n",
    "        overlays a foreground image onto a background image\n",
    "        \n",
    "        Args:\n",
    "            fg (PIL Image): the foreground image\n",
    "            bg (PIL Image): the background image\n",
    "            x (int): the x position of the upper left corner to overlay image\n",
    "            y (int): the y position of the upper left corner to overlay image\n",
    "            \n",
    "        Returns:\n",
    "            bg_copy (PIL Image): the image of foreground overlayed on background\n",
    "        \"\"\"\n",
    "        fg_copy = copy.deepcopy(fg)\n",
    "        fg_copy = self.resize_img(fg_copy, int(self.pixels_per_meter * \n",
    "                                               self.roomba_meter_ratio * \n",
    "                                               zoom))\n",
    "        fg_copy = fg_copy.rotate(45, expand=True, resample=Image.BILINEAR)\n",
    "        \n",
    "        bg_copy = copy.deepcopy(bg)\n",
    "        bg_copy = bg_copy.rotate(rot, expand=True, resample=Image.BILINEAR)\n",
    "        bg_copy = self.crop_center(bg_copy,\n",
    "                                   int(self.bg_width / zoom) + 1, # +1 to fix transparent\n",
    "                                   int(self.bg_height / zoom) + 1)\n",
    "        bg_copy = self.resize_img(bg_copy, self.bg_width)\n",
    "        print(fg_copy.width, fg_copy.height)\n",
    "        try:\n",
    "            x = randrange(0, 1280-fg_copy.width)\n",
    "            y = randrange(0, 720-fg_copy.height)\n",
    "            bg_copy.paste(fg_copy, (x, y), fg_copy)\n",
    "            print((x,y), (x+fg_copy.width, y+fg_copy.height))\n",
    "            return bg_copy\n",
    "        except:\n",
    "            return None"
   ]
  },
  {
   "cell_type": "code",
   "execution_count": 45,
   "metadata": {
    "collapsed": true
   },
   "outputs": [],
   "source": [
    "imageGen = ImageGen()"
   ]
  },
  {
   "cell_type": "code",
   "execution_count": 46,
   "metadata": {
    "collapsed": true
   },
   "outputs": [],
   "source": [
    "fg = imageGen.crop_imgs[1]\n",
    "bg = imageGen.bg_imgs[2]"
   ]
  },
  {
   "cell_type": "code",
   "execution_count": 47,
   "metadata": {
    "collapsed": true
   },
   "outputs": [],
   "source": [
    "from random import randrange"
   ]
  },
  {
   "cell_type": "code",
   "execution_count": 50,
   "metadata": {},
   "outputs": [
    {
     "name": "stdout",
     "output_type": "stream",
     "text": [
      "76 80\n",
      "(507, 44) (583, 124)\n",
      "122 129\n",
      "(1148, 356) (1270, 485)\n",
      "96 101\n",
      "(493, 322) (589, 423)\n",
      "298 316\n",
      "(274, 19) (572, 335)\n",
      "131 138\n",
      "(198, 285) (329, 423)\n",
      "169 179\n",
      "(4, 310) (173, 489)\n",
      "85 90\n",
      "(54, 608) (139, 698)\n",
      "104 110\n",
      "(683, 450) (787, 560)\n",
      "219 232\n",
      "(59, 53) (278, 285)\n",
      "381 404\n",
      "(526, 285) (907, 689)\n",
      "231 244\n",
      "(969, 8) (1200, 252)\n",
      "309 327\n",
      "(553, 132) (862, 459)\n",
      "255 270\n",
      "(204, 82) (459, 352)\n",
      "104 110\n",
      "(1001, 118) (1105, 228)\n",
      "207 219\n",
      "(496, 296) (703, 515)\n",
      "303 321\n",
      "(202, 190) (505, 511)\n",
      "159 168\n",
      "(1, 545) (160, 713)\n",
      "170 180\n",
      "(59, 462) (229, 642)\n",
      "114 120\n",
      "(109, 323) (223, 443)\n",
      "211 223\n",
      "(610, 378) (821, 601)\n",
      "99 104\n",
      "(133, 111) (232, 215)\n",
      "181 191\n",
      "(500, 242) (681, 433)\n",
      "142 150\n",
      "(1085, 408) (1227, 558)\n",
      "354 375\n",
      "(67, 303) (421, 678)\n",
      "101 107\n",
      "(452, 211) (553, 318)\n",
      "82 86\n",
      "(55, 279) (137, 365)\n",
      "203 215\n",
      "(780, 10) (983, 225)\n",
      "101 107\n",
      "(1060, 496) (1161, 603)\n",
      "181 191\n",
      "(949, 161) (1130, 352)\n",
      "312 330\n",
      "(359, 51) (671, 381)\n"
     ]
    }
   ],
   "source": [
    "i = 0\n",
    "while i < 30:\n",
    "    x = 0\n",
    "    y = 0\n",
    "    rot = randrange(0,360)\n",
    "    height = randrange(150,900) / 300\n",
    "    zoom = (1280/3600) * 3 / height\n",
    "    test = imageGen.overlay_imgs(fg, bg, x, y, rot, zoom)\n",
    "    if test != None:\n",
    "        test.save(\"/tmp/test{}.png\".format(i))\n",
    "        i += 1"
   ]
  },
  {
   "cell_type": "code",
   "execution_count": 21,
   "metadata": {
    "collapsed": true
   },
   "outputs": [],
   "source": []
  },
  {
   "cell_type": "code",
   "execution_count": null,
   "metadata": {
    "collapsed": true
   },
   "outputs": [],
   "source": [
    "%%timeit\n",
    "imageGen.resize_img(imageGen.crop_imgs[0], 256);"
   ]
  },
  {
   "cell_type": "code",
   "execution_count": null,
   "metadata": {
    "collapsed": true
   },
   "outputs": [],
   "source": [
    "test_img = test_img.rotate(randrange(0,360), expand=True)"
   ]
  },
  {
   "cell_type": "code",
   "execution_count": 62,
   "metadata": {},
   "outputs": [
    {
     "data": {
      "text/plain": [
       "(512, 543)"
      ]
     },
     "execution_count": 62,
     "metadata": {},
     "output_type": "execute_result"
    }
   ],
   "source": [
    "fg_copy = copy.deepcopy(imageGen.crop_imgs[1])\n",
    "fg_copy.size"
   ]
  },
  {
   "cell_type": "code",
   "execution_count": 63,
   "metadata": {},
   "outputs": [],
   "source": [
    "fg_copy = fg_copy.rotate(45, expand=True)\n",
    "fg_copy.size"
   ]
  },
  {
   "cell_type": "markdown",
   "metadata": {},
   "source": [
    "## Get the cropped images"
   ]
  },
  {
   "cell_type": "code",
   "execution_count": null,
   "metadata": {
    "collapsed": true
   },
   "outputs": [],
   "source": []
  },
  {
   "cell_type": "code",
   "execution_count": null,
   "metadata": {
    "collapsed": true
   },
   "outputs": [],
   "source": []
  },
  {
   "cell_type": "markdown",
   "metadata": {},
   "source": [
    "## Get background images"
   ]
  },
  {
   "cell_type": "code",
   "execution_count": null,
   "metadata": {
    "collapsed": true
   },
   "outputs": [],
   "source": []
  },
  {
   "cell_type": "code",
   "execution_count": null,
   "metadata": {
    "collapsed": true
   },
   "outputs": [],
   "source": []
  },
  {
   "cell_type": "markdown",
   "metadata": {},
   "source": [
    "## Generate image"
   ]
  },
  {
   "cell_type": "code",
   "execution_count": null,
   "metadata": {
    "collapsed": true
   },
   "outputs": [],
   "source": [
    "os.chdir(CROP_DIR)\n",
    "\n",
    "\n",
    "\n"
   ]
  },
  {
   "cell_type": "code",
   "execution_count": null,
   "metadata": {
    "collapsed": true
   },
   "outputs": [],
   "source": []
  },
  {
   "cell_type": "code",
   "execution_count": null,
   "metadata": {
    "collapsed": true
   },
   "outputs": [],
   "source": []
  }
 ],
 "metadata": {
  "kernelspec": {
   "display_name": "Python [conda env:iarc_vision_gen]",
   "language": "python",
   "name": "conda-env-iarc_vision_gen-py"
  },
  "language_info": {
   "codemirror_mode": {
    "name": "ipython",
    "version": 3
   },
   "file_extension": ".py",
   "mimetype": "text/x-python",
   "name": "python",
   "nbconvert_exporter": "python",
   "pygments_lexer": "ipython3",
   "version": "3.6.2"
  }
 },
 "nbformat": 4,
 "nbformat_minor": 2
}
