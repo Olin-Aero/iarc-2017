{
 "cells": [
  {
   "cell_type": "markdown",
   "metadata": {},
   "source": [
    "## Imports"
   ]
  },
  {
   "cell_type": "code",
   "execution_count": 1,
   "metadata": {
    "collapsed": true
   },
   "outputs": [],
   "source": [
    "import os\n",
    "from PIL import Image\n",
    "from glob import glob\n",
    "import scipy.misc\n",
    "from random import randrange\n",
    "import copy\n",
    "%matplotlib inline"
   ]
  },
  {
   "cell_type": "markdown",
   "metadata": {},
   "source": [
    "## Helper Functions / Classes"
   ]
  },
  {
   "cell_type": "code",
   "execution_count": 7,
   "metadata": {
    "collapsed": true
   },
   "outputs": [],
   "source": [
    "class ImageGen():\n",
    "    def __init__(self):\n",
    "        self.base_dir = os.getcwd()\n",
    "        self.data_dir = os.path.join(self.base_dir, \"data\")\n",
    "        self.crop_dir = os.path.join(self.data_dir, \"crops\")\n",
    "        self.bg_dir = os.path.join(self.data_dir, \"bgs\")\n",
    "        self.gen_dir = os.path.join(self.data_dir, \"gen\")\n",
    "        \n",
    "        # crop images\n",
    "        self.crop_width = 512\n",
    "        self.get_crops()\n",
    "        self.roomba_meter_ratio = 13.39 * 2.54 / 100\n",
    "        \n",
    "        # background images\n",
    "        self.pixels_per_meter = 600\n",
    "        self.bg_width = 1280\n",
    "        self.bg_height = 720\n",
    "        self.get_bgs()\n",
    "        \n",
    "    def get_crops(self):\n",
    "        \"\"\"\n",
    "        reads in and resizes cropped images into the self.crop_imgs list\n",
    "        \"\"\"\n",
    "        os.chdir(self.crop_dir)\n",
    "        self.crop_filenames = sorted(glob(\"*\"))\n",
    "        self.crop_imgs = [Image.open(filename) for filename in self.crop_filenames]\n",
    "        self.crop_imgs = [self.resize_img(image, self.crop_width) for image in self.crop_imgs]\n",
    "        os.chdir(self.base_dir)\n",
    "        \n",
    "    def get_bgs(self):\n",
    "        \"\"\"\n",
    "        reads in and resizes background images the self.bg_imgs list\n",
    "        \"\"\"\n",
    "        os.chdir(self.bg_dir)\n",
    "        self.bg_filenames = sorted(glob(\"*\"))\n",
    "        self.bg_imgs = [Image.open(filename) for filename in self.bg_filenames]\n",
    "#         self.bg_imgs = [image.resize((self.bg_width, self.bg_height), resample=Image.BILINEAR)\n",
    "#                         for image in self.bg_imgs]\n",
    "        os.chdir(self.base_dir)\n",
    "        \n",
    "    def resize_img(self, img, desired_width):\n",
    "        \"\"\"\n",
    "        resizes target img while preserving width \n",
    "        \n",
    "        Args:\n",
    "            img (PIL Image): the image to be resized\n",
    "            desired_width: the desired width for the resized image\n",
    "            \n",
    "        Returns:\n",
    "            resized_img (PIL Image): the resized image\n",
    "        \"\"\"\n",
    "        width, height = img.size\n",
    "        ratio = width / height\n",
    "        desired_height = int(desired_width / ratio)\n",
    "        resized_img = img.resize((desired_width, desired_height), resample=Image.BILINEAR)\n",
    "        return resized_img\n",
    "    \n",
    "    def crop_center(self, img, width, height):\n",
    "        left  = int((img.width / 2) - (width / 2))\n",
    "        right = left + width\n",
    "        upper = int((img.height / 2) - (height / 2))\n",
    "        lower = upper + height\n",
    "        return img.crop((left, upper, right, lower))\n",
    "        \n",
    "    def overlay_imgs(self, fg, bg, x, y, rot, zoom):\n",
    "        \"\"\"\n",
    "        overlays a foreground image onto a background image\n",
    "        \n",
    "        Args:\n",
    "            fg (PIL Image): the foreground image\n",
    "            bg (PIL Image): the background image\n",
    "            x (int): the x position of the upper left corner to overlay image\n",
    "            y (int): the y position of the upper left corner to overlay image\n",
    "            \n",
    "        Returns:\n",
    "            bg_copy (PIL Image): the image of foreground overlayed on background\n",
    "        \"\"\"\n",
    "        fg_copy = copy.deepcopy(fg)\n",
    "        fg_copy = self.resize_img(fg_copy, int(self.pixels_per_meter * \n",
    "                                               self.roomba_meter_ratio * \n",
    "                                               zoom))\n",
    "        roomba_rot = randrange(0,360)\n",
    "        fg_copy = fg_copy.rotate(roomba_rot, expand=True, resample=Image.BILINEAR)\n",
    "        \n",
    "        bg_copy = copy.deepcopy(bg)\n",
    "        bg_copy = bg_copy.rotate(rot, expand=True, resample=Image.BILINEAR)\n",
    "        bg_copy = self.crop_center(bg_copy,\n",
    "                                   int(self.bg_width / zoom) + 1, # +1 to fix transparent\n",
    "                                   int(self.bg_height / zoom) + 1)\n",
    "        bg_copy = self.resize_img(bg_copy, self.bg_width)\n",
    "        print(fg_copy.width, fg_copy.height, roomba_rot)\n",
    "        try:\n",
    "            x = randrange(0, 1280-fg_copy.width)\n",
    "            y = randrange(0, 720-fg_copy.height)\n",
    "            bg_copy.paste(fg_copy, (x, y), fg_copy)\n",
    "            print((x,y), (x+fg_copy.width, y+fg_copy.height))\n",
    "            return bg_copy\n",
    "        except:\n",
    "            return None"
   ]
  },
  {
   "cell_type": "code",
   "execution_count": 8,
   "metadata": {
    "collapsed": true
   },
   "outputs": [],
   "source": [
    "imageGen = ImageGen()"
   ]
  },
  {
   "cell_type": "code",
   "execution_count": 9,
   "metadata": {
    "collapsed": true
   },
   "outputs": [],
   "source": [
    "fg = imageGen.crop_imgs[1]\n",
    "bg = imageGen.bg_imgs[2]"
   ]
  },
  {
   "cell_type": "code",
   "execution_count": 5,
   "metadata": {
    "collapsed": true
   },
   "outputs": [],
   "source": [
    "from random import randrange"
   ]
  },
  {
   "cell_type": "code",
   "execution_count": 10,
   "metadata": {},
   "outputs": [
    {
     "name": "stdout",
     "output_type": "stream",
     "text": [
      "133 134 317\n",
      "(829, 151) (962, 285)\n",
      "359 373 12\n",
      "(864, 269) (1223, 642)\n",
      "90 88 80\n",
      "(1051, 63) (1141, 151)\n",
      "131 134 202\n",
      "(381, 25) (512, 159)\n",
      "211 218 162\n",
      "(350, 274) (561, 492)\n",
      "294 294 40\n",
      "(845, 304) (1139, 598)\n",
      "331 325 66\n",
      "(720, 288) (1051, 613)\n",
      "151 146 278\n",
      "(83, 280) (234, 426)\n",
      "279 276 129\n",
      "(849, 298) (1128, 574)\n",
      "110 110 323\n",
      "(521, 48) (631, 158)\n",
      "172 169 125\n",
      "(348, 28) (520, 197)\n",
      "229 230 222\n",
      "(646, 195) (875, 425)\n",
      "355 369 350\n",
      "(310, 302) (665, 671)\n",
      "152 152 49\n",
      "(79, 491) (231, 643)\n",
      "565 558 55\n",
      "(483, 91) (1048, 649)\n",
      "109 109 46\n",
      "(159, 137) (268, 246)\n",
      "205 209 30\n",
      "(236, 161) (441, 370)\n",
      "153 153 51\n",
      "(901, 23) (1054, 176)\n",
      "121 122 333\n",
      "(359, 592) (480, 714)\n",
      "99 97 75\n",
      "(969, 305) (1068, 402)\n",
      "228 223 295\n",
      "(402, 458) (630, 681)\n",
      "103 106 12\n",
      "(1010, 351) (1113, 457)\n",
      "145 141 72\n",
      "(674, 156) (819, 297)\n",
      "269 270 318\n",
      "(265, 174) (534, 444)\n",
      "155 147 275\n",
      "(266, 348) (421, 495)\n",
      "114 115 23\n",
      "(1018, 62) (1132, 177)\n",
      "124 127 340\n",
      "(372, 97) (496, 224)\n",
      "204 204 221\n",
      "(714, 169) (918, 373)\n",
      "243 241 53\n",
      "(457, 1) (700, 242)\n",
      "113 119 5\n",
      "(829, 12) (942, 131)\n",
      "148 155 193\n",
      "(559, 330) (707, 485)\n",
      "141 134 88\n",
      "(136, 316) (277, 450)\n",
      "141 142 228\n",
      "(433, 254) (574, 396)\n",
      "489 480 297\n",
      "(698, 9) (1187, 489)\n",
      "422 427 146\n",
      "(54, 85) (476, 512)\n",
      "495 502 32\n",
      "(373, 96) (868, 598)\n",
      "140 141 44\n",
      "(996, 435) (1136, 576)\n",
      "197 197 319\n",
      "(735, 169) (932, 366)\n",
      "103 107 20\n",
      "(326, 37) (429, 144)\n",
      "120 120 140\n",
      "(35, 236) (155, 356)\n",
      "101 104 348\n",
      "(713, 443) (814, 547)\n",
      "109 114 173\n",
      "(120, 13) (229, 127)\n",
      "96 101 183\n",
      "(740, 1) (836, 102)\n",
      "299 306 26\n",
      "(798, 57) (1097, 363)\n",
      "170 162 276\n",
      "(575, 329) (745, 491)\n",
      "127 130 337\n",
      "(1097, 317) (1224, 447)\n",
      "312 307 244\n",
      "(119, 387) (431, 694)\n",
      "155 147 271\n",
      "(679, 539) (834, 686)\n",
      "273 272 313\n",
      "(1001, 437) (1274, 709)\n",
      "323 329 27\n",
      "(627, 282) (950, 611)\n",
      "147 147 310\n",
      "(832, 516) (979, 663)\n",
      "224 221 303\n",
      "(336, 481) (560, 702)\n",
      "101 99 110\n",
      "(768, 344) (869, 443)\n",
      "145 138 82\n",
      "(755, 26) (900, 164)\n",
      "111 109 298\n",
      "(1155, 275) (1266, 384)\n",
      "152 154 153\n",
      "(89, 33) (241, 187)\n",
      "528 527 136\n",
      "(340, 74) (868, 601)\n",
      "418 421 35\n",
      "(556, 14) (974, 435)\n",
      "326 321 240\n",
      "(699, 391) (1025, 712)\n",
      "151 156 167\n",
      "(512, 212) (663, 368)\n",
      "120 125 18\n",
      "(1016, 93) (1136, 218)\n",
      "348 355 23\n",
      "(529, 187) (877, 542)\n",
      "107 107 42\n",
      "(508, 119) (615, 226)\n",
      "176 175 131\n",
      "(1051, 499) (1227, 674)\n",
      "133 131 108\n",
      "(873, 217) (1006, 348)\n",
      "130 137 183\n",
      "(14, 414) (144, 551)\n",
      "292 308 185\n",
      "(107, 146) (399, 454)\n",
      "116 120 181\n",
      "(1088, 524) (1204, 644)\n",
      "506 497 117\n",
      "(317, 141) (823, 638)\n",
      "100 95 269\n",
      "(228, 191) (328, 286)\n",
      "122 126 347\n",
      "(1029, 587) (1151, 713)\n",
      "185 186 141\n",
      "(570, 273) (755, 459)\n",
      "133 134 33\n",
      "(966, 579) (1099, 713)\n",
      "136 137 207\n",
      "(692, 575) (828, 712)\n",
      "293 295 323\n",
      "(472, 28) (765, 323)\n",
      "119 114 102\n",
      "(927, 432) (1046, 546)\n",
      "219 214 109\n",
      "(22, 424) (241, 638)\n",
      "191 195 158\n",
      "(32, 293) (223, 488)\n",
      "104 99 82\n",
      "(89, 330) (193, 429)\n",
      "108 108 31\n",
      "(924, 153) (1032, 261)\n",
      "118 121 342\n",
      "(888, 415) (1006, 536)\n",
      "150 150 316\n",
      "(1021, 371) (1171, 521)\n",
      "334 343 20\n",
      "(407, 164) (741, 507)\n",
      "340 324 87\n",
      "(309, 385) (649, 709)\n",
      "105 108 167\n",
      "(1029, 258) (1134, 366)\n",
      "206 208 211\n",
      "(973, 362) (1179, 570)\n",
      "210 202 282\n",
      "(1039, 470) (1249, 672)\n",
      "173 170 67\n",
      "(201, 244) (374, 414)\n",
      "460 461 137\n",
      "(0, 130) (460, 591)\n",
      "141 142 132\n",
      "(567, 457) (708, 599)\n",
      "267 268 138\n",
      "(684, 421) (951, 689)\n",
      "107 109 147\n",
      "(63, 504) (170, 613)\n",
      "107 104 263\n",
      "(987, 511) (1094, 615)\n",
      "278 270 254\n",
      "(873, 357) (1151, 627)\n",
      "111 111 216\n",
      "(766, 581) (877, 692)\n",
      "497 476 84\n",
      "(304, 114) (801, 590)\n",
      "116 116 40\n",
      "(582, 103) (698, 219)\n",
      "206 217 356\n",
      "(298, 373) (504, 590)\n",
      "278 267 100\n",
      "(866, 107) (1144, 374)\n",
      "140 138 63\n",
      "(234, 493) (374, 631)\n"
     ]
    }
   ],
   "source": [
    "i = 0\n",
    "while i < 100:\n",
    "    x = 0\n",
    "    y = 0\n",
    "    rot = randrange(0,360)\n",
    "    height = randrange(150,900) / 300\n",
    "    zoom = (1280/3600) * 3 / height\n",
    "    test = imageGen.overlay_imgs(fg, bg, x, y, rot, zoom)\n",
    "    if test != None:\n",
    "        test.save(\"/tmp/test{}.png\".format(i))\n",
    "        i += 1"
   ]
  },
  {
   "cell_type": "code",
   "execution_count": null,
   "metadata": {
    "collapsed": true
   },
   "outputs": [],
   "source": []
  },
  {
   "cell_type": "code",
   "execution_count": null,
   "metadata": {
    "collapsed": true
   },
   "outputs": [],
   "source": [
    "%%timeit\n",
    "imageGen.resize_img(imageGen.crop_imgs[0], 256);"
   ]
  },
  {
   "cell_type": "code",
   "execution_count": null,
   "metadata": {
    "collapsed": true
   },
   "outputs": [],
   "source": [
    "test_img = test_img.rotate(randrange(0,360), expand=True)"
   ]
  },
  {
   "cell_type": "code",
   "execution_count": null,
   "metadata": {},
   "outputs": [],
   "source": [
    "fg_copy = copy.deepcopy(imageGen.crop_imgs[1])\n",
    "fg_copy.size"
   ]
  },
  {
   "cell_type": "code",
   "execution_count": null,
   "metadata": {},
   "outputs": [],
   "source": [
    "fg_copy = fg_copy.rotate(45, expand=True)\n",
    "fg_copy.size"
   ]
  },
  {
   "cell_type": "markdown",
   "metadata": {},
   "source": [
    "## Get the cropped images"
   ]
  },
  {
   "cell_type": "code",
   "execution_count": null,
   "metadata": {
    "collapsed": true
   },
   "outputs": [],
   "source": []
  },
  {
   "cell_type": "code",
   "execution_count": null,
   "metadata": {
    "collapsed": true
   },
   "outputs": [],
   "source": []
  },
  {
   "cell_type": "markdown",
   "metadata": {},
   "source": [
    "## Get background images"
   ]
  },
  {
   "cell_type": "code",
   "execution_count": null,
   "metadata": {
    "collapsed": true
   },
   "outputs": [],
   "source": []
  },
  {
   "cell_type": "code",
   "execution_count": null,
   "metadata": {
    "collapsed": true
   },
   "outputs": [],
   "source": []
  },
  {
   "cell_type": "markdown",
   "metadata": {},
   "source": [
    "## Generate image"
   ]
  },
  {
   "cell_type": "code",
   "execution_count": null,
   "metadata": {
    "collapsed": true
   },
   "outputs": [],
   "source": [
    "os.chdir(CROP_DIR)\n",
    "\n",
    "\n",
    "\n"
   ]
  },
  {
   "cell_type": "code",
   "execution_count": null,
   "metadata": {
    "collapsed": true
   },
   "outputs": [],
   "source": []
  },
  {
   "cell_type": "code",
   "execution_count": null,
   "metadata": {
    "collapsed": true
   },
   "outputs": [],
   "source": []
  }
 ],
 "metadata": {
  "kernelspec": {
   "display_name": "Python [conda env:iarc_vision_gen]",
   "language": "python",
   "name": "conda-env-iarc_vision_gen-py"
  },
  "language_info": {
   "codemirror_mode": {
    "name": "ipython",
    "version": 3
   },
   "file_extension": ".py",
   "mimetype": "text/x-python",
   "name": "python",
   "nbconvert_exporter": "python",
   "pygments_lexer": "ipython3",
   "version": "3.6.2"
  }
 },
 "nbformat": 4,
 "nbformat_minor": 2
}
