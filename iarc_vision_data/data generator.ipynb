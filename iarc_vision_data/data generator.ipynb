{
 "cells": [
  {
   "cell_type": "markdown",
   "metadata": {},
   "source": [
    "## Imports"
   ]
  },
  {
   "cell_type": "code",
   "execution_count": 1,
   "metadata": {
    "collapsed": true
   },
   "outputs": [],
   "source": [
    "import os\n",
    "from PIL import Image\n",
    "from glob import glob\n",
    "import scipy.misc\n",
    "from random import randrange, randint, uniform\n",
    "import copy\n",
    "import math \n",
    "%matplotlib inline"
   ]
  },
  {
   "cell_type": "markdown",
   "metadata": {},
   "source": [
    "## Helper Functions / Classes"
   ]
  },
  {
   "cell_type": "code",
   "execution_count": 11,
   "metadata": {},
   "outputs": [],
   "source": [
    "class ImageGen():\n",
    "    def __init__(self):\n",
    "        self.base_dir = os.getcwd()\n",
    "        self.data_dir = os.path.join(self.base_dir, \"data\")\n",
    "        self.crop_dir = os.path.join(self.data_dir, \"crops\")\n",
    "        self.bg_dir = os.path.join(self.data_dir, \"bgs\")\n",
    "        self.gen_dir = os.path.join(self.data_dir, \"gen\")\n",
    "        \n",
    "        # crop images\n",
    "        self.crop_width = 512\n",
    "        self.get_crops()\n",
    "        self.roomba_meter_ratio = 13.39 * 2.54 / 100\n",
    "        \n",
    "        # background images\n",
    "        self.pixels_per_meter = 600\n",
    "        self.maximum_meters_seen = 6\n",
    "        self.bg_width = 1280\n",
    "        self.bg_height = 720\n",
    "        self.get_bgs()\n",
    "        \n",
    "        # other\n",
    "        self.min_alt = .5 # .5 meters min altitude for image generation\n",
    "        self.max_alt = 3  # 3 meters max altitude for image generation\n",
    "        \n",
    "    def get_crops(self):\n",
    "        \"\"\"\n",
    "        reads in and resizes cropped images into the self.crop_imgs list\n",
    "        \"\"\"\n",
    "        os.chdir(self.crop_dir)\n",
    "        self.crop_filenames = sorted(glob(\"*\"))\n",
    "        self.crop_imgs = [Image.open(filename) for filename in self.crop_filenames]\n",
    "        self.crop_imgs = [self.resize_img(image, self.crop_width) for image in self.crop_imgs]\n",
    "        os.chdir(self.base_dir)\n",
    "        \n",
    "    def get_bgs(self):\n",
    "        \"\"\"\n",
    "        reads in and resizes background images the self.bg_imgs list\n",
    "        \"\"\"\n",
    "        os.chdir(self.bg_dir)\n",
    "        self.bg_filenames = sorted(glob(\"*\"))\n",
    "        self.bg_imgs = [Image.open(filename) for filename in self.bg_filenames]\n",
    "#         self.bg_imgs = [image.resize((self.bg_width, self.bg_height), resample=Image.BILINEAR)\n",
    "#                         for image in self.bg_imgs]\n",
    "        os.chdir(self.base_dir)\n",
    "        \n",
    "    def resize_img(self, img, desired_width):\n",
    "        \"\"\"\n",
    "        resizes target img while preserving width \n",
    "        \n",
    "        Args:\n",
    "            img (PIL Image): the image to be resized\n",
    "            desired_width: the desired width for the resized image\n",
    "            \n",
    "        Returns:\n",
    "            resized_img (PIL Image): the resized image\n",
    "        \"\"\"\n",
    "        width, height = img.size\n",
    "        ratio = width / height\n",
    "        desired_height = int(desired_width / ratio)\n",
    "        resized_img = img.resize((desired_width, desired_height), resample=Image.BILINEAR)\n",
    "        return resized_img\n",
    "    \n",
    "    def crop_center(self, img, width, height):\n",
    "        left  = int((img.width / 2) - (width / 2))\n",
    "        right = left + width\n",
    "        upper = int((img.height / 2) - (height / 2))\n",
    "        lower = upper + height\n",
    "        return img.crop((left, upper, right, lower))\n",
    "    \n",
    "    def gen_img_ann(self, file_id):\n",
    "        \"\"\"\n",
    "        generates an image and its corresponding annotation files\n",
    "            \n",
    "        Args:\n",
    "            file_id (string): the filename that should be saved\n",
    "        \"\"\"\n",
    "        # first determine the altitude at which to generate\n",
    "        altitude = uniform(self.min_alt, self.max_alt)\n",
    "        zoom = ((self.bg_width/ (self.pixels_per_meter * self.maximum_meters_seen)) *\n",
    "                self.max_alt / altitude)\n",
    "        \n",
    "        # prepare the fg (roomba) image\n",
    "        fg_rot = randint(0,360)\n",
    "        fg_rad = fg_rot * (math.pi / 180)\n",
    "        xhat = math.cos(fg_rad)\n",
    "        yhat = math.sin(fg_rad)\n",
    "        fg = self.prepare_fg(zoom, fg_rot)\n",
    "        \n",
    "        # prepare the bg (gym floor) image\n",
    "        bg_rot = randint(0,360)\n",
    "        bg = self.prepare_bg(zoom, bg_rot)\n",
    "        \n",
    "        # generate and save the image\n",
    "        x = randint(0, bg.width-fg.width)\n",
    "        y = randint(0, bg.height-fg.height)\n",
    "        try: # sometimes it breaks when very partiular things go wrong, this is\n",
    "             # to catch those small but unlikely errors that can occure\n",
    "            bg.paste(fg, (x, y), fg)\n",
    "        except:\n",
    "            print(\"overlay failed: \", fg.size, bg.size, x, y)\n",
    "            return\n",
    "        bg.save(\"/tmp/{:06}.png\".format(file_id))\n",
    "        \n",
    "        # generate corresponding annotation files\n",
    "        \n",
    "    \n",
    "    def prepare_fg(self, zoom, rot):\n",
    "        fg = copy.deepcopy(self.crop_imgs[1]) # overhead picture\n",
    "        fg = self.resize_img(fg, int(self.pixels_per_meter *\n",
    "                                     self.roomba_meter_ratio * \n",
    "                                     zoom))\n",
    "        fg = fg.rotate(rot, expand=True, resample=Image.BILINEAR)\n",
    "        return fg\n",
    "    \n",
    "    def prepare_bg(self, zoom, rot):\n",
    "        bg = copy.deepcopy(self.bg_imgs[2]) # 8mx8m competition grid\n",
    "        bg = bg.crop((randint(0,600), randint(0,600), bg.width, bg.height)) # translate grid\n",
    "        bg = bg.rotate(rot, expand=True, resample=Image.BILINEAR)\n",
    "        bg = self.crop_center(bg,\n",
    "                              int(self.bg_width / zoom) + 1, # +1 to fix transparent edges\n",
    "                              int(self.bg_height / zoom) + 1)\n",
    "        bg = self.resize_img(bg, self.bg_width)\n",
    "        return bg\n",
    "        \n",
    "    def overlay_imgs(self, fg, bg, x, y):\n",
    "        \"\"\"\n",
    "        overlays a foreground image onto a background image modified in place\n",
    "        \n",
    "        Args:\n",
    "            fg (PIL Image): the foreground image\n",
    "            bg (PIL Image): the background image\n",
    "            x (int): the x position of the upper left corner to overlay image\n",
    "            y (int): the y position of the upper left corner to overlay image\n",
    "            \n",
    "        Returns:\n",
    "            True:  successful overlay\n",
    "            False: unsuccessful overlay\n",
    "        \"\"\"\n",
    "        try:\n",
    "            bg.paste(fg, (x, y), fg)\n",
    "            return True\n",
    "        except:\n",
    "            return False"
   ]
  },
  {
   "cell_type": "code",
   "execution_count": 12,
   "metadata": {
    "collapsed": true
   },
   "outputs": [],
   "source": [
    "imageGen = ImageGen()"
   ]
  },
  {
   "cell_type": "code",
   "execution_count": 14,
   "metadata": {},
   "outputs": [],
   "source": [
    "for i in range(10):\n",
    "    imageGen.gen_img_ann(i)"
   ]
  },
  {
   "cell_type": "code",
   "execution_count": null,
   "metadata": {
    "collapsed": true
   },
   "outputs": [],
   "source": [
    "fg = imageGen.crop_imgs[1]\n",
    "bg = imageGen.bg_imgs[2]"
   ]
  },
  {
   "cell_type": "code",
   "execution_count": null,
   "metadata": {},
   "outputs": [],
   "source": [
    "i = 0\n",
    "while i < 10:\n",
    "    test = imageGen.overlay_imgs(fg, bg, x, y, rot, zoom)\n",
    "    if test != None:\n",
    "        test.save(\"/tmp/test{}.png\".format(i))\n",
    "        i += 1"
   ]
  },
  {
   "cell_type": "code",
   "execution_count": null,
   "metadata": {
    "collapsed": true
   },
   "outputs": [],
   "source": []
  },
  {
   "cell_type": "code",
   "execution_count": null,
   "metadata": {
    "collapsed": true
   },
   "outputs": [],
   "source": [
    "%%timeit\n",
    "imageGen.resize_img(imageGen.crop_imgs[0], 256);"
   ]
  },
  {
   "cell_type": "code",
   "execution_count": null,
   "metadata": {
    "collapsed": true
   },
   "outputs": [],
   "source": [
    "test_img = test_img.rotate(randrange(0,360), expand=True)"
   ]
  },
  {
   "cell_type": "code",
   "execution_count": null,
   "metadata": {
    "collapsed": true
   },
   "outputs": [],
   "source": [
    "fg_copy = copy.deepcopy(imageGen.crop_imgs[1])\n",
    "fg_copy.size"
   ]
  },
  {
   "cell_type": "code",
   "execution_count": null,
   "metadata": {
    "collapsed": true
   },
   "outputs": [],
   "source": [
    "fg_copy = fg_copy.rotate(45, expand=True)\n",
    "fg_copy.size"
   ]
  },
  {
   "cell_type": "markdown",
   "metadata": {},
   "source": [
    "## Get the cropped images"
   ]
  },
  {
   "cell_type": "code",
   "execution_count": null,
   "metadata": {
    "collapsed": true
   },
   "outputs": [],
   "source": []
  },
  {
   "cell_type": "code",
   "execution_count": null,
   "metadata": {
    "collapsed": true
   },
   "outputs": [],
   "source": []
  },
  {
   "cell_type": "markdown",
   "metadata": {},
   "source": [
    "## Get background images"
   ]
  },
  {
   "cell_type": "code",
   "execution_count": null,
   "metadata": {
    "collapsed": true
   },
   "outputs": [],
   "source": []
  },
  {
   "cell_type": "code",
   "execution_count": null,
   "metadata": {
    "collapsed": true
   },
   "outputs": [],
   "source": []
  },
  {
   "cell_type": "markdown",
   "metadata": {},
   "source": [
    "## Generate image"
   ]
  },
  {
   "cell_type": "code",
   "execution_count": null,
   "metadata": {
    "collapsed": true
   },
   "outputs": [],
   "source": [
    "os.chdir(CROP_DIR)\n",
    "\n",
    "\n",
    "\n"
   ]
  },
  {
   "cell_type": "code",
   "execution_count": null,
   "metadata": {
    "collapsed": true
   },
   "outputs": [],
   "source": []
  },
  {
   "cell_type": "code",
   "execution_count": null,
   "metadata": {
    "collapsed": true
   },
   "outputs": [],
   "source": []
  }
 ],
 "metadata": {
  "kernelspec": {
   "display_name": "Python [conda env:iarc_vision_gen]",
   "language": "python",
   "name": "conda-env-iarc_vision_gen-py"
  },
  "language_info": {
   "codemirror_mode": {
    "name": "ipython",
    "version": 3
   },
   "file_extension": ".py",
   "mimetype": "text/x-python",
   "name": "python",
   "nbconvert_exporter": "python",
   "pygments_lexer": "ipython3",
   "version": "3.6.2"
  }
 },
 "nbformat": 4,
 "nbformat_minor": 2
}
