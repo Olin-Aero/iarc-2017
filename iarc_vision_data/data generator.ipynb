{
 "cells": [
  {
   "cell_type": "markdown",
   "metadata": {},
   "source": [
    "## Imports"
   ]
  },
  {
   "cell_type": "code",
   "execution_count": 1,
   "metadata": {
    "ExecuteTime": {
     "end_time": "2017-10-31T03:30:51.452528Z",
     "start_time": "2017-10-31T03:30:51.034091Z"
    }
   },
   "outputs": [],
   "source": [
    "import os\n",
    "from PIL import Image\n",
    "from glob import glob\n",
    "import scipy.misc\n",
    "from random import randrange, randint, uniform\n",
    "import copy\n",
    "import math \n",
    "%matplotlib inline"
   ]
  },
  {
   "cell_type": "markdown",
   "metadata": {},
   "source": [
    "## Helper Functions / Classes"
   ]
  },
  {
   "cell_type": "code",
   "execution_count": 2,
   "metadata": {
    "ExecuteTime": {
     "end_time": "2017-10-31T12:55:33.047498Z",
     "start_time": "2017-10-31T12:55:32.200673Z"
    }
   },
   "outputs": [],
   "source": [
    "class ImageGen():\n",
    "    def __init__(self):\n",
    "        self.base_dir = os.getcwd()\n",
    "        self.data_dir = os.path.join(self.base_dir, 'data')\n",
    "        self.crop_dir = os.path.join(self.data_dir, 'crops')\n",
    "        self.bg_dir = os.path.join(self.data_dir, 'bgs')\n",
    "        self.gen_dir = os.path.join(self.data_dir, 'gen')\n",
    "        self.ori_dir = os.path.join(self.data_dir, 'ori')\n",
    "        self.ori_csv = os.path.join(self.ori_dir, 'orientations.csv')\n",
    "        self.training_list = os.path.join(self.gen_dir, 'training_list.txt')\n",
    "        \n",
    "        # temp\n",
    "        self.counter = 0\n",
    "        \n",
    "        # misc\n",
    "        self.min_alt = .5 # .5 meters min altitude for image generation\n",
    "        self.max_alt = 3  # 3 meters max altitude for image generation\n",
    "        self.class_ids = {'roomba':'0', 'obstacle':'1'}      \n",
    "        self.camera_fov = 90 * math.pi / 180\n",
    "        \n",
    "        # crop images\n",
    "        self.crop_width = 512\n",
    "        self.get_crops()\n",
    "        self.roomba_meter_ratio = 13.39 * 2.54 / 100\n",
    "        \n",
    "        # background images\n",
    "        self.pixels_per_meter = 600\n",
    "        self.bg_width = 1280\n",
    "        self.bg_height = 720\n",
    "        self.maximum_meters_seen = self.max_alt * 2 * math.tan(self.camera_fov / 2)\n",
    "        self.get_bgs()\n",
    "    \n",
    "    def get_crops(self):\n",
    "        \"\"\"\n",
    "        reads in and resizes cropped images into the self.crop_imgs list\n",
    "        \"\"\"\n",
    "        os.chdir(self.crop_dir)\n",
    "        self.crop_filenames = sorted(glob(\"*\"))\n",
    "        self.crop_imgs = [Image.open(filename) for filename in self.crop_filenames]\n",
    "        self.crop_imgs = [self.resize_img(image, self.crop_width) for image in self.crop_imgs]\n",
    "        os.chdir(self.base_dir)\n",
    "        \n",
    "    def get_bgs(self):\n",
    "        \"\"\"\n",
    "        reads in and resizes background images the self.bg_imgs list\n",
    "        \"\"\"\n",
    "        os.chdir(self.bg_dir)\n",
    "        self.bg_filenames = sorted(glob(\"*\"))\n",
    "        self.bg_imgs = [Image.open(filename) for filename in self.bg_filenames]\n",
    "#         self.bg_imgs = [image.resize((self.bg_width, self.bg_height), resample=Image.BILINEAR)\n",
    "#                         for image in self.bg_imgs]\n",
    "        os.chdir(self.base_dir)\n",
    "        \n",
    "    def resize_img(self, img, desired_width):\n",
    "        \"\"\"\n",
    "        resizes target img while preserving width \n",
    "        \n",
    "        Args:\n",
    "            img (PIL Image): the image to be resized\n",
    "            desired_width: the desired width for the resized image\n",
    "            \n",
    "        Returns:\n",
    "            resized_img (PIL Image): the resized image\n",
    "        \"\"\"\n",
    "        width, height = img.size\n",
    "        ratio = width / height\n",
    "        desired_height = int(desired_width / ratio)\n",
    "        resized_img = img.resize((desired_width, desired_height), resample=Image.BILINEAR)\n",
    "        return resized_img\n",
    "    \n",
    "    def crop_center(self, img, width, height):\n",
    "        left  = int((img.width / 2) - (width / 2))\n",
    "        right = left + width\n",
    "        upper = int((img.height / 2) - (height / 2))\n",
    "        lower = upper + height\n",
    "        return img.crop((left, upper, right, lower))\n",
    "    \n",
    "    def gen_ori(self, file_id):\n",
    "        \"\"\"\n",
    "        generates an image and its corresponding annotation files\n",
    "            \n",
    "        Args:\n",
    "            file_id (string): the filename that should be saved\n",
    "        \"\"\"\n",
    "        # first determine the altitude at which to generate\n",
    "        altitude = 1 #uniform(self.min_alt, self.max_alt)\n",
    "        zoom = ((self.bg_width/ (self.pixels_per_meter * self.maximum_meters_seen)) *\n",
    "                self.max_alt / altitude)\n",
    "        \n",
    "        # prepare the fg (roomba) image\n",
    "        fg_rot = self.counter #randint(0,360)\n",
    "        self.counter += 1\n",
    "        fg_rad = fg_rot * (math.pi / 180)\n",
    "        xhat = math.cos(fg_rad)\n",
    "        yhat = math.sin(fg_rad)\n",
    "        fg = self.prepare_fg(zoom, fg_rot)\n",
    "        \n",
    "        # prepare the bg (gym floor) image\n",
    "        bg_rot = 0 #randint(0,360)\n",
    "        bg = self.prepare_bg(zoom, bg_rot)\n",
    "        \n",
    "        # generate and save the image\n",
    "        x = randint(0, bg.width-fg.width)\n",
    "        y = randint(0, bg.height-fg.height)\n",
    "        try: # sometimes it breaks when very partiular things go wrong, this is\n",
    "             # to catch those small but unlikely errors that can occure\n",
    "            bg.paste(fg, (x, y), fg)\n",
    "            bg = bg.crop((x, y, x + fg.width, y + fg.height)) # crop out roomba from background\n",
    "        except:\n",
    "            print(\"overlay failed: \", fg.size, bg.size, x, y)\n",
    "            return\n",
    "        img_filepath = os.path.join(self.ori_dir, \"{:06}.png\".format(file_id)) \n",
    "        bg.save(img_filepath)\n",
    "        \n",
    "        # generate corresponding annotation files\n",
    "        self.append_to_file(self.ori_csv,\n",
    "                            \"{},{},{},{}\".format(img_filepath,\n",
    "                                                 fg_rot,\n",
    "                                                 bg_rot,\n",
    "                                                 altitude))\n",
    "        \n",
    "    def gen_img_ann(self, file_id):\n",
    "        \"\"\"\n",
    "        generates an image and its corresponding annotation files\n",
    "            \n",
    "        Args:\n",
    "            file_id (string): the filename that should be saved\n",
    "        \"\"\"\n",
    "        # first determine the altitude at which to generate\n",
    "        altitude = uniform(self.min_alt, self.max_alt)\n",
    "        zoom = ((self.bg_width/ (self.pixels_per_meter * self.maximum_meters_seen)) *\n",
    "                self.max_alt / altitude)\n",
    "        \n",
    "        # prepare the fg (roomba) image\n",
    "        fg_rot = randint(0,360)\n",
    "        fg_rad = fg_rot * (math.pi / 180)\n",
    "        xhat = math.cos(fg_rad)\n",
    "        yhat = math.sin(fg_rad)\n",
    "        fg = self.prepare_fg(zoom, fg_rot)\n",
    "        \n",
    "        # prepare the bg (gym floor) image\n",
    "        bg_rot = randint(0,360)\n",
    "        bg = self.prepare_bg(zoom, bg_rot)\n",
    "        \n",
    "        # generate and save the image\n",
    "        x = randint(0, bg.width-fg.width)\n",
    "        y = randint(0, bg.height-fg.height)\n",
    "        try: # sometimes it breaks when very partiular things go wrong, this is\n",
    "             # to catch those small but unlikely errors that can occure\n",
    "            bg.paste(fg, (x, y), fg)\n",
    "        except:\n",
    "            print(\"overlay failed: \", fg.size, bg.size, x, y)\n",
    "            return\n",
    "        img_filepath = os.path.join(self.gen_dir, \"{:06}.png\".format(file_id)) \n",
    "        txt_filepath = os.path.join(self.gen_dir, \"{:06}.txt\".format(file_id))\n",
    "        bg.save(img_filepath)\n",
    "        \n",
    "        # generate corresponding annotation files\n",
    "        self.remove_file_contents(txt_filepath)\n",
    "        self.append_to_file(txt_filepath, self.class_ids['roomba'] + ' ' + self.yolo_bbox((x, x + fg.width, y, y + fg.height)))\n",
    "        self.append_to_file(self.training_list, img_filepath)\n",
    "    \n",
    "    def prepare_fg(self, zoom, rot):\n",
    "        fg = copy.deepcopy(self.crop_imgs[randint(0,1)]) # overhead picture\n",
    "        fg = self.resize_img(fg, int(self.pixels_per_meter *\n",
    "                                     self.roomba_meter_ratio * \n",
    "                                     zoom))\n",
    "        fg = fg.rotate(rot, expand=True, resample=Image.BILINEAR)\n",
    "        fg = fg.crop(fg.getbbox()) # remove any extra transparent pixels\n",
    "        return fg\n",
    "    \n",
    "    def prepare_bg(self, zoom, rot):\n",
    "        bg = copy.deepcopy(self.bg_imgs[2]) # 8mx8m competition grid\n",
    "        bg = bg.crop((randint(0,600), randint(0,600), bg.width, bg.height)) # translate grid\n",
    "        bg = bg.rotate(rot, expand=True, resample=Image.BILINEAR)\n",
    "        bg = self.crop_center(bg,\n",
    "                              int(self.bg_width / zoom) + 1, # +1 to fix transparent edges\n",
    "                              int(self.bg_height / zoom) + 1)\n",
    "        bg = self.resize_img(bg, self.bg_width)\n",
    "        return bg\n",
    "        \n",
    "    def overlay_imgs(self, fg, bg, x, y):\n",
    "        \"\"\"\n",
    "        overlays a foreground image onto a background image modified in place\n",
    "        \n",
    "        Args:\n",
    "            fg (PIL Image): the foreground image\n",
    "            bg (PIL Image): the background image\n",
    "            x (int): the x position of the upper left corner to overlay image\n",
    "            y (int): the y position of the upper left corner to overlay image\n",
    "            \n",
    "        Returns:\n",
    "            True:  successful overlay\n",
    "            False: unsuccessful overlay\n",
    "        \"\"\"\n",
    "        try:\n",
    "            bg.paste(fg, (x, y), fg)\n",
    "            return True\n",
    "        except:\n",
    "            return False\n",
    "        \n",
    "    def yolo_bbox(self, box):\n",
    "        \"\"\"\n",
    "        converts a regular bbox to a yolo bbox given the bg image dimensions\n",
    "        \n",
    "        Args;\n",
    "            bbox (4 tuple): (left, right, upper, lower)\n",
    "        \"\"\"\n",
    "        dw = 1 / self.bg_width\n",
    "        dh = 1 / self.bg_height\n",
    "        x = (box[0] + box[1]) / 2.0\n",
    "        y = (box[2] + box[3]) / 2.0\n",
    "        w = box[1] - box[0]\n",
    "        h = box[3] - box[2]\n",
    "        x = x * dw\n",
    "        w = w * dw\n",
    "        y = y * dh\n",
    "        h = h * dh\n",
    "        return ' '.join(map(str, (x, y, w, h)))\n",
    "    \n",
    "    def remove_file_contents(self, filepath):\n",
    "        \"\"\"\n",
    "        clears the file located at filepath of all its contents\n",
    "        \n",
    "        Args:\n",
    "            filepath (string): the path to the file to be cleared\n",
    "            \n",
    "        Returns:\n",
    "            None\n",
    "        \"\"\"\n",
    "        open(filepath, 'w').close()\n",
    "\n",
    "    def append_to_file(self, filepath, data):\n",
    "        \"\"\"\n",
    "        append data to file located at filepath\n",
    "        \n",
    "        Args:\n",
    "            filepath (string): the file to be appended to\n",
    "            data (string or string castable): the data to be appended\n",
    "            \n",
    "        Returns:\n",
    "            None\n",
    "        \"\"\"\n",
    "        with open(filepath, 'a') as f:\n",
    "            f.write(str(data) + '\\n')\n",
    "            \n",
    "    def generate_data(self, n):\n",
    "        \"\"\"\n",
    "        generates n images and annotations\n",
    "        \"\"\"\n",
    "        self.remove_file_contents(self.training_list)\n",
    "        for i in range(n):\n",
    "            self.gen_img_ann(i)\n",
    "            \n",
    "    def generate_orientation_data(self, n):\n",
    "        self.remove_file_contents(self.ori_csv)\n",
    "        self.append_to_file(self.ori_csv, \"filepath,roomba_rotation,grid_rotation,drone_altitude\")\n",
    "        for i in range(n):\n",
    "            self.gen_ori(i)"
   ]
  },
  {
   "cell_type": "code",
   "execution_count": 3,
   "metadata": {
    "ExecuteTime": {
     "end_time": "2017-10-31T12:55:34.275190Z",
     "start_time": "2017-10-31T12:55:33.919460Z"
    }
   },
   "outputs": [],
   "source": [
    "imageGen = ImageGen()"
   ]
  },
  {
   "cell_type": "code",
   "execution_count": 4,
   "metadata": {
    "ExecuteTime": {
     "start_time": "2017-10-31T12:55:37.219Z"
    }
   },
   "outputs": [],
   "source": [
    "imageGen.generate_orientation_data(360)"
   ]
  },
  {
   "cell_type": "code",
   "execution_count": null,
   "metadata": {
    "ExecuteTime": {
     "end_time": "2017-10-31T03:32:01.247503Z",
     "start_time": "2017-10-31T03:30:53.507Z"
    }
   },
   "outputs": [],
   "source": [
    "imageGen.generate_data(20)"
   ]
  },
  {
   "cell_type": "code",
   "execution_count": null,
   "metadata": {},
   "outputs": [],
   "source": [
    "fg = imageGen.crop_imgs[1]\n",
    "bg = imageGen.bg_imgs[2]"
   ]
  },
  {
   "cell_type": "code",
   "execution_count": null,
   "metadata": {},
   "outputs": [],
   "source": [
    "i = 0\n",
    "while i < 10:\n",
    "    test = imageGen.overlay_imgs(fg, bg, x, y, rot, zoom)\n",
    "    if test != None:\n",
    "        test.save(\"/tmp/test{}.png\".format(i))\n",
    "        i += 1"
   ]
  },
  {
   "cell_type": "code",
   "execution_count": null,
   "metadata": {},
   "outputs": [],
   "source": [
    "%%timeit\n",
    "imageGen.resize_img(imageGen.crop_imgs[0], 256);"
   ]
  },
  {
   "cell_type": "code",
   "execution_count": null,
   "metadata": {},
   "outputs": [],
   "source": [
    "test_img = test_img.rotate(randrange(0,360), expand=True)"
   ]
  },
  {
   "cell_type": "code",
   "execution_count": null,
   "metadata": {},
   "outputs": [],
   "source": [
    "fg_copy = copy.deepcopy(imageGen.crop_imgs[1])\n",
    "fg_copy.size"
   ]
  },
  {
   "cell_type": "code",
   "execution_count": null,
   "metadata": {},
   "outputs": [],
   "source": [
    "fg_copy = fg_copy.rotate(45, expand=True)\n",
    "fg_copy.size"
   ]
  },
  {
   "cell_type": "markdown",
   "metadata": {},
   "source": [
    "## Get the cropped images"
   ]
  },
  {
   "cell_type": "code",
   "execution_count": null,
   "metadata": {},
   "outputs": [],
   "source": [
    "self.maximum_meters_seen = self.max_alt * 2 * math.tan(self.camera_fov / 2)"
   ]
  },
  {
   "cell_type": "code",
   "execution_count": null,
   "metadata": {},
   "outputs": [],
   "source": [
    "max_alt = 3"
   ]
  },
  {
   "cell_type": "code",
   "execution_count": null,
   "metadata": {},
   "outputs": [],
   "source": [
    "math.tan(45 * math.pi / 180)"
   ]
  },
  {
   "cell_type": "markdown",
   "metadata": {},
   "source": [
    "## Get background images"
   ]
  },
  {
   "cell_type": "code",
   "execution_count": null,
   "metadata": {},
   "outputs": [],
   "source": []
  },
  {
   "cell_type": "code",
   "execution_count": null,
   "metadata": {},
   "outputs": [],
   "source": []
  },
  {
   "cell_type": "markdown",
   "metadata": {},
   "source": [
    "## Generate image"
   ]
  },
  {
   "cell_type": "code",
   "execution_count": null,
   "metadata": {},
   "outputs": [],
   "source": [
    "os.chdir(CROP_DIR)\n",
    "\n",
    "\n",
    "\n"
   ]
  },
  {
   "cell_type": "code",
   "execution_count": null,
   "metadata": {},
   "outputs": [],
   "source": []
  },
  {
   "cell_type": "code",
   "execution_count": null,
   "metadata": {},
   "outputs": [],
   "source": []
  }
 ],
 "metadata": {
  "kernelspec": {
   "display_name": "Python [conda env:DL-Keras]",
   "language": "python",
   "name": "conda-env-DL-Keras-py"
  },
  "language_info": {
   "codemirror_mode": {
    "name": "ipython",
    "version": 3
   },
   "file_extension": ".py",
   "mimetype": "text/x-python",
   "name": "python",
   "nbconvert_exporter": "python",
   "pygments_lexer": "ipython3",
   "version": "3.6.3"
  }
 },
 "nbformat": 4,
 "nbformat_minor": 2
}
