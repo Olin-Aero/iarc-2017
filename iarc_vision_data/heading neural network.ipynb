{
 "cells": [
  {
   "cell_type": "markdown",
   "metadata": {},
   "source": [
    "## Imports"
   ]
  },
  {
   "cell_type": "code",
   "execution_count": 1,
   "metadata": {
    "ExecuteTime": {
     "end_time": "2017-11-01T23:50:19.861356Z",
     "start_time": "2017-11-01T23:50:19.532328Z"
    }
   },
   "outputs": [],
   "source": [
    "import os\n",
    "from PIL import Image\n",
    "from glob import glob\n",
    "import scipy.misc\n",
    "from scipy.misc import imread, imresize\n",
    "from random import randrange, randint, uniform\n",
    "import math \n",
    "%matplotlib inline\n",
    "\n",
    "import numpy as np\n",
    "import pandas as pd"
   ]
  },
  {
   "cell_type": "code",
   "execution_count": 2,
   "metadata": {
    "ExecuteTime": {
     "end_time": "2017-11-01T23:50:27.341712Z",
     "start_time": "2017-11-01T23:50:19.862537Z"
    }
   },
   "outputs": [
    {
     "name": "stderr",
     "output_type": "stream",
     "text": [
      "Using TensorFlow backend.\n"
     ]
    }
   ],
   "source": [
    "from keras.applications.vgg16 import VGG16\n",
    "from keras.applications.mobilenet import MobileNet\n",
    "# from keras.preprocessing.image import ImageDataGenerator\n",
    "# from keras.preprocessing import image\n",
    "# from keras.optimizers import Adam\n",
    "from keras.models import Sequential, Model\n",
    "from keras.layers import Dropout, Flatten, Dense, Reshape, Activation\n",
    "from keras.layers.core import Lambda\n",
    "from keras.layers.pooling import MaxPool2D\n",
    "from keras.layers.convolutional import Conv2D\n",
    "from keras.layers.normalization import BatchNormalization\n",
    "from keras.optimizers import Adam\n",
    "import keras.backend as K\n",
    "import tensorflow as tf"
   ]
  },
  {
   "cell_type": "markdown",
   "metadata": {},
   "source": [
    "## Data"
   ]
  },
  {
   "cell_type": "code",
   "execution_count": 3,
   "metadata": {
    "ExecuteTime": {
     "end_time": "2017-11-01T23:50:27.345864Z",
     "start_time": "2017-11-01T23:50:27.343028Z"
    }
   },
   "outputs": [],
   "source": [
    "base_dir = os.getcwd()\n",
    "data_dir = os.path.join(base_dir, 'data')\n",
    "ori_dir = os.path.join(data_dir, 'ori')\n",
    "ori_csv = os.path.join(ori_dir, 'orientations.csv')"
   ]
  },
  {
   "cell_type": "code",
   "execution_count": 4,
   "metadata": {
    "ExecuteTime": {
     "end_time": "2017-11-01T23:50:37.333274Z",
     "start_time": "2017-11-01T23:50:27.346858Z"
    }
   },
   "outputs": [
    {
     "name": "stderr",
     "output_type": "stream",
     "text": [
      "/home/nathan/anaconda3/envs/DL-Keras/lib/python3.6/site-packages/ipykernel/__main__.py:7: DeprecationWarning: `imread` is deprecated!\n",
      "`imread` is deprecated in SciPy 1.0.0, and will be removed in 1.2.0.\n",
      "Use ``imageio.imread`` instead.\n",
      "/home/nathan/anaconda3/envs/DL-Keras/lib/python3.6/site-packages/ipykernel/__main__.py:7: DeprecationWarning: `imresize` is deprecated!\n",
      "`imresize` is deprecated in SciPy 1.0.0, and will be removed in 1.2.0.\n",
      "Use ``skimage.transform.resize`` instead.\n",
      "/home/nathan/anaconda3/envs/DL-Keras/lib/python3.6/site-packages/ipykernel/__main__.py:8: DeprecationWarning: `imread` is deprecated!\n",
      "`imread` is deprecated in SciPy 1.0.0, and will be removed in 1.2.0.\n",
      "Use ``imageio.imread`` instead.\n",
      "/home/nathan/anaconda3/envs/DL-Keras/lib/python3.6/site-packages/ipykernel/__main__.py:8: DeprecationWarning: `imresize` is deprecated!\n",
      "`imresize` is deprecated in SciPy 1.0.0, and will be removed in 1.2.0.\n",
      "Use ``skimage.transform.resize`` instead.\n"
     ]
    }
   ],
   "source": [
    "os.chdir(ori_dir)\n",
    "img_size = 128\n",
    "img_dim = 3\n",
    "num = 359\n",
    "test = 1\n",
    "files = sorted(glob(\"*.png\"))\n",
    "x = np.asarray([imresize(imread(file,mode='RGB'), (img_size,img_size)) for file in files[:num]])\n",
    "x_test = np.asarray([imresize(imread(file,mode='RGB'), (img_size,img_size)) for file in files[num:num+test]])\n",
    "df = pd.read_csv(ori_csv,delimiter=',')\n",
    "os.chdir(base_dir)"
   ]
  },
  {
   "cell_type": "code",
   "execution_count": 5,
   "metadata": {
    "ExecuteTime": {
     "end_time": "2017-11-01T23:50:37.333274Z",
     "start_time": "2017-11-01T23:50:27.346858Z"
    }
   },
   "outputs": [],
   "source": [
    "df['roomba_rad'] = np.deg2rad(df['roomba_rotation'])\n",
    "df['roomba_xhat'] = np.cos(df['roomba_rad'])\n",
    "df['roomba_yhat'] = np.sin(df['roomba_rad'])"
   ]
  },
  {
   "cell_type": "code",
   "execution_count": 6,
   "metadata": {
    "ExecuteTime": {
     "end_time": "2017-11-01T23:50:37.333274Z",
     "start_time": "2017-11-01T23:50:27.346858Z"
    }
   },
   "outputs": [],
   "source": [
    "y = df[:num][['roomba_xhat', 'roomba_yhat']].values\n",
    "y_test = df[num:num+test][['roomba_xhat', 'roomba_yhat']].values"
   ]
  },
  {
   "cell_type": "markdown",
   "metadata": {},
   "source": [
    "## Model"
   ]
  },
  {
   "cell_type": "markdown",
   "metadata": {},
   "source": [
    "### Choose layers"
   ]
  },
  {
   "cell_type": "markdown",
   "metadata": {},
   "source": [
    "#### Mobilenet"
   ]
  },
  {
   "cell_type": "code",
   "execution_count": 7,
   "metadata": {
    "ExecuteTime": {
     "end_time": "2017-11-01T23:50:40.120039Z",
     "start_time": "2017-11-01T23:50:37.355889Z"
    }
   },
   "outputs": [],
   "source": [
    "output_num = 2\n",
    "mobilenet = MobileNet(input_shape=(img_size,img_size,img_dim),\n",
    "                      alpha=1.00,\n",
    "                      depth_multiplier=1,\n",
    "                      dropout=1e-3,\n",
    "                      include_top=False,\n",
    "                      weights='imagenet',\n",
    "                      input_tensor=None,\n",
    "                      pooling='avg',\n",
    "                      classes=1000)\n",
    "mobile_layers = mobilenet.layers\n",
    "final_layers = [Reshape((1, 1, -1), name='reshape_1'),\n",
    "                Dropout(.05, name='dropout'),\n",
    "#                 Conv2D(output_num, (1, 1), padding='same', name='conv_preds'),\n",
    "                Dense(256, activation='relu', name='dense_1'),\n",
    "                Dropout(.05, name='dropout_2'),\n",
    "                Dense(2, name='dense_2'),\n",
    "                Activation('linear', name='act_linear'),\n",
    "                Reshape((output_num,), name='reshape_2')]\n",
    "\n",
    "layers = mobile_layers + final_layers\n",
    "n = 5\n",
    "for layer in layers[:-n]:\n",
    "    layer.trainable = False\n",
    "for layer in layers[-n:]:\n",
    "    layer.trainable = True"
   ]
  },
  {
   "cell_type": "markdown",
   "metadata": {},
   "source": [
    "#### VGG16"
   ]
  },
  {
   "cell_type": "code",
   "execution_count": 8,
   "metadata": {
    "ExecuteTime": {
     "end_time": "2017-10-31T18:37:07.579120Z",
     "start_time": "2017-10-31T18:37:05.903994Z"
    }
   },
   "outputs": [],
   "source": [
    "# vgg_mean = np.array([123.68, 116.779, 103.939], dtype=np.float32)\n",
    "# vgg_preprocess = lambda x: (x - vgg_mean)[:, ::-1]\n",
    "# vgg16 = VGG16(include_top=True, weights='imagenet', pooling=None, input_shape=(224,224,3))\n",
    "# layers = [vgg16.layers[0]] + [Lambda(vgg_preprocess)] + vgg16.layers[1:-1] + [Dense(2, activation='relu')]\n",
    "\n",
    "# model = Sequential(layers=layers)\n",
    "# for layer in model.layers[:-2]:\n",
    "#     layer.trainable = False\n",
    "# for layer in model.layers[-2:]:\n",
    "#     layer.trainable = True\n",
    "# model.summary()"
   ]
  },
  {
   "cell_type": "markdown",
   "metadata": {},
   "source": [
    "#### Custom"
   ]
  },
  {
   "cell_type": "code",
   "execution_count": 9,
   "metadata": {
    "ExecuteTime": {
     "end_time": "2017-10-31T18:28:26.586789Z",
     "start_time": "2017-10-31T18:28:26.573202Z"
    }
   },
   "outputs": [],
   "source": [
    "# layers = [Conv2D(16, (3,3), padding='same', input_shape=(128,128,3)),\n",
    "#           BatchNormalization(),\n",
    "#           Activation('relu'),\n",
    "#           MaxPool2D((2, 2), strides=(2, 2)),\n",
    "          \n",
    "#           Conv2D(16, (3,3), padding='same'),\n",
    "#           BatchNormalization(),\n",
    "#           Activation('relu'),\n",
    "#           MaxPool2D((2, 2), strides=(2, 2)),\n",
    "          \n",
    "#           Conv2D(16, (3,3), padding='same'),\n",
    "#           BatchNormalization(),\n",
    "#           Activation('relu'),\n",
    "#           MaxPool2D((2, 2), strides=(2, 2)),\n",
    "          \n",
    "#           Conv2D(16, (3,3), padding='same'),\n",
    "#           BatchNormalization(),\n",
    "#           Activation('relu'),\n",
    "#           MaxPool2D((2, 2), strides=(2, 2)),\n",
    "          \n",
    "#           Flatten(),\n",
    "#           Dense(1024),\n",
    "#           BatchNormalization(),\n",
    "#           Activation('relu'),\n",
    "# #           Dropout(.5),\n",
    "          \n",
    "#           Dense(2),\n",
    "#          ]"
   ]
  },
  {
   "cell_type": "markdown",
   "metadata": {},
   "source": [
    "### Make model"
   ]
  },
  {
   "cell_type": "code",
   "execution_count": 10,
   "metadata": {
    "ExecuteTime": {
     "end_time": "2017-11-01T23:50:41.047239Z",
     "start_time": "2017-11-01T23:50:40.121013Z"
    }
   },
   "outputs": [],
   "source": [
    "model = Sequential(layers)\n",
    "opt = Adam(lr=.001)\n",
    "model.compile(optimizer=opt,loss='mean_squared_error')"
   ]
  },
  {
   "cell_type": "code",
   "execution_count": 11,
   "metadata": {
    "ExecuteTime": {
     "end_time": "2017-11-01T23:50:41.071866Z",
     "start_time": "2017-11-01T23:50:41.048456Z"
    },
    "scrolled": true
   },
   "outputs": [
    {
     "name": "stdout",
     "output_type": "stream",
     "text": [
      "_________________________________________________________________\n",
      "Layer (type)                 Output Shape              Param #   \n",
      "=================================================================\n",
      "input_1 (InputLayer)         (None, 128, 128, 3)       0         \n",
      "_________________________________________________________________\n",
      "conv1 (Conv2D)               (None, 64, 64, 32)        864       \n",
      "_________________________________________________________________\n",
      "conv1_bn (BatchNormalization (None, 64, 64, 32)        128       \n",
      "_________________________________________________________________\n",
      "conv1_relu (Activation)      (None, 64, 64, 32)        0         \n",
      "_________________________________________________________________\n",
      "conv_dw_1 (DepthwiseConv2D)  (None, 64, 64, 32)        288       \n",
      "_________________________________________________________________\n",
      "conv_dw_1_bn (BatchNormaliza (None, 64, 64, 32)        128       \n",
      "_________________________________________________________________\n",
      "conv_dw_1_relu (Activation)  (None, 64, 64, 32)        0         \n",
      "_________________________________________________________________\n",
      "conv_pw_1 (Conv2D)           (None, 64, 64, 64)        2048      \n",
      "_________________________________________________________________\n",
      "conv_pw_1_bn (BatchNormaliza (None, 64, 64, 64)        256       \n",
      "_________________________________________________________________\n",
      "conv_pw_1_relu (Activation)  (None, 64, 64, 64)        0         \n",
      "_________________________________________________________________\n",
      "conv_dw_2 (DepthwiseConv2D)  (None, 32, 32, 64)        576       \n",
      "_________________________________________________________________\n",
      "conv_dw_2_bn (BatchNormaliza (None, 32, 32, 64)        256       \n",
      "_________________________________________________________________\n",
      "conv_dw_2_relu (Activation)  (None, 32, 32, 64)        0         \n",
      "_________________________________________________________________\n",
      "conv_pw_2 (Conv2D)           (None, 32, 32, 128)       8192      \n",
      "_________________________________________________________________\n",
      "conv_pw_2_bn (BatchNormaliza (None, 32, 32, 128)       512       \n",
      "_________________________________________________________________\n",
      "conv_pw_2_relu (Activation)  (None, 32, 32, 128)       0         \n",
      "_________________________________________________________________\n",
      "conv_dw_3 (DepthwiseConv2D)  (None, 32, 32, 128)       1152      \n",
      "_________________________________________________________________\n",
      "conv_dw_3_bn (BatchNormaliza (None, 32, 32, 128)       512       \n",
      "_________________________________________________________________\n",
      "conv_dw_3_relu (Activation)  (None, 32, 32, 128)       0         \n",
      "_________________________________________________________________\n",
      "conv_pw_3 (Conv2D)           (None, 32, 32, 128)       16384     \n",
      "_________________________________________________________________\n",
      "conv_pw_3_bn (BatchNormaliza (None, 32, 32, 128)       512       \n",
      "_________________________________________________________________\n",
      "conv_pw_3_relu (Activation)  (None, 32, 32, 128)       0         \n",
      "_________________________________________________________________\n",
      "conv_dw_4 (DepthwiseConv2D)  (None, 16, 16, 128)       1152      \n",
      "_________________________________________________________________\n",
      "conv_dw_4_bn (BatchNormaliza (None, 16, 16, 128)       512       \n",
      "_________________________________________________________________\n",
      "conv_dw_4_relu (Activation)  (None, 16, 16, 128)       0         \n",
      "_________________________________________________________________\n",
      "conv_pw_4 (Conv2D)           (None, 16, 16, 256)       32768     \n",
      "_________________________________________________________________\n",
      "conv_pw_4_bn (BatchNormaliza (None, 16, 16, 256)       1024      \n",
      "_________________________________________________________________\n",
      "conv_pw_4_relu (Activation)  (None, 16, 16, 256)       0         \n",
      "_________________________________________________________________\n",
      "conv_dw_5 (DepthwiseConv2D)  (None, 16, 16, 256)       2304      \n",
      "_________________________________________________________________\n",
      "conv_dw_5_bn (BatchNormaliza (None, 16, 16, 256)       1024      \n",
      "_________________________________________________________________\n",
      "conv_dw_5_relu (Activation)  (None, 16, 16, 256)       0         \n",
      "_________________________________________________________________\n",
      "conv_pw_5 (Conv2D)           (None, 16, 16, 256)       65536     \n",
      "_________________________________________________________________\n",
      "conv_pw_5_bn (BatchNormaliza (None, 16, 16, 256)       1024      \n",
      "_________________________________________________________________\n",
      "conv_pw_5_relu (Activation)  (None, 16, 16, 256)       0         \n",
      "_________________________________________________________________\n",
      "conv_dw_6 (DepthwiseConv2D)  (None, 8, 8, 256)         2304      \n",
      "_________________________________________________________________\n",
      "conv_dw_6_bn (BatchNormaliza (None, 8, 8, 256)         1024      \n",
      "_________________________________________________________________\n",
      "conv_dw_6_relu (Activation)  (None, 8, 8, 256)         0         \n",
      "_________________________________________________________________\n",
      "conv_pw_6 (Conv2D)           (None, 8, 8, 512)         131072    \n",
      "_________________________________________________________________\n",
      "conv_pw_6_bn (BatchNormaliza (None, 8, 8, 512)         2048      \n",
      "_________________________________________________________________\n",
      "conv_pw_6_relu (Activation)  (None, 8, 8, 512)         0         \n",
      "_________________________________________________________________\n",
      "conv_dw_7 (DepthwiseConv2D)  (None, 8, 8, 512)         4608      \n",
      "_________________________________________________________________\n",
      "conv_dw_7_bn (BatchNormaliza (None, 8, 8, 512)         2048      \n",
      "_________________________________________________________________\n",
      "conv_dw_7_relu (Activation)  (None, 8, 8, 512)         0         \n",
      "_________________________________________________________________\n",
      "conv_pw_7 (Conv2D)           (None, 8, 8, 512)         262144    \n",
      "_________________________________________________________________\n",
      "conv_pw_7_bn (BatchNormaliza (None, 8, 8, 512)         2048      \n",
      "_________________________________________________________________\n",
      "conv_pw_7_relu (Activation)  (None, 8, 8, 512)         0         \n",
      "_________________________________________________________________\n",
      "conv_dw_8 (DepthwiseConv2D)  (None, 8, 8, 512)         4608      \n",
      "_________________________________________________________________\n",
      "conv_dw_8_bn (BatchNormaliza (None, 8, 8, 512)         2048      \n",
      "_________________________________________________________________\n",
      "conv_dw_8_relu (Activation)  (None, 8, 8, 512)         0         \n",
      "_________________________________________________________________\n",
      "conv_pw_8 (Conv2D)           (None, 8, 8, 512)         262144    \n",
      "_________________________________________________________________\n",
      "conv_pw_8_bn (BatchNormaliza (None, 8, 8, 512)         2048      \n",
      "_________________________________________________________________\n",
      "conv_pw_8_relu (Activation)  (None, 8, 8, 512)         0         \n",
      "_________________________________________________________________\n",
      "conv_dw_9 (DepthwiseConv2D)  (None, 8, 8, 512)         4608      \n",
      "_________________________________________________________________\n",
      "conv_dw_9_bn (BatchNormaliza (None, 8, 8, 512)         2048      \n",
      "_________________________________________________________________\n",
      "conv_dw_9_relu (Activation)  (None, 8, 8, 512)         0         \n",
      "_________________________________________________________________\n",
      "conv_pw_9 (Conv2D)           (None, 8, 8, 512)         262144    \n",
      "_________________________________________________________________\n",
      "conv_pw_9_bn (BatchNormaliza (None, 8, 8, 512)         2048      \n",
      "_________________________________________________________________\n",
      "conv_pw_9_relu (Activation)  (None, 8, 8, 512)         0         \n",
      "_________________________________________________________________\n",
      "conv_dw_10 (DepthwiseConv2D) (None, 8, 8, 512)         4608      \n",
      "_________________________________________________________________\n",
      "conv_dw_10_bn (BatchNormaliz (None, 8, 8, 512)         2048      \n",
      "_________________________________________________________________\n",
      "conv_dw_10_relu (Activation) (None, 8, 8, 512)         0         \n",
      "_________________________________________________________________\n",
      "conv_pw_10 (Conv2D)          (None, 8, 8, 512)         262144    \n",
      "_________________________________________________________________\n",
      "conv_pw_10_bn (BatchNormaliz (None, 8, 8, 512)         2048      \n",
      "_________________________________________________________________\n",
      "conv_pw_10_relu (Activation) (None, 8, 8, 512)         0         \n",
      "_________________________________________________________________\n",
      "conv_dw_11 (DepthwiseConv2D) (None, 8, 8, 512)         4608      \n",
      "_________________________________________________________________\n",
      "conv_dw_11_bn (BatchNormaliz (None, 8, 8, 512)         2048      \n",
      "_________________________________________________________________\n",
      "conv_dw_11_relu (Activation) (None, 8, 8, 512)         0         \n",
      "_________________________________________________________________\n",
      "conv_pw_11 (Conv2D)          (None, 8, 8, 512)         262144    \n",
      "_________________________________________________________________\n",
      "conv_pw_11_bn (BatchNormaliz (None, 8, 8, 512)         2048      \n",
      "_________________________________________________________________\n",
      "conv_pw_11_relu (Activation) (None, 8, 8, 512)         0         \n",
      "_________________________________________________________________\n",
      "conv_dw_12 (DepthwiseConv2D) (None, 4, 4, 512)         4608      \n",
      "_________________________________________________________________\n",
      "conv_dw_12_bn (BatchNormaliz (None, 4, 4, 512)         2048      \n",
      "_________________________________________________________________\n",
      "conv_dw_12_relu (Activation) (None, 4, 4, 512)         0         \n",
      "_________________________________________________________________\n",
      "conv_pw_12 (Conv2D)          (None, 4, 4, 1024)        524288    \n",
      "_________________________________________________________________\n",
      "conv_pw_12_bn (BatchNormaliz (None, 4, 4, 1024)        4096      \n",
      "_________________________________________________________________\n",
      "conv_pw_12_relu (Activation) (None, 4, 4, 1024)        0         \n",
      "_________________________________________________________________\n",
      "conv_dw_13 (DepthwiseConv2D) (None, 4, 4, 1024)        9216      \n",
      "_________________________________________________________________\n",
      "conv_dw_13_bn (BatchNormaliz (None, 4, 4, 1024)        4096      \n",
      "_________________________________________________________________\n",
      "conv_dw_13_relu (Activation) (None, 4, 4, 1024)        0         \n",
      "_________________________________________________________________\n",
      "conv_pw_13 (Conv2D)          (None, 4, 4, 1024)        1048576   \n",
      "_________________________________________________________________\n",
      "conv_pw_13_bn (BatchNormaliz (None, 4, 4, 1024)        4096      \n",
      "_________________________________________________________________\n",
      "conv_pw_13_relu (Activation) (None, 4, 4, 1024)        0         \n",
      "_________________________________________________________________\n",
      "global_average_pooling2d_1 ( (None, 1024)              0         \n",
      "_________________________________________________________________\n",
      "reshape_1 (Reshape)          (None, 1, 1, 1024)        0         \n",
      "_________________________________________________________________\n",
      "dropout (Dropout)            (None, 1, 1, 1024)        0         \n",
      "_________________________________________________________________\n",
      "dense_1 (Dense)              (None, 1, 1, 256)         262400    \n",
      "_________________________________________________________________\n",
      "dropout_2 (Dropout)          (None, 1, 1, 256)         0         \n",
      "_________________________________________________________________\n",
      "dense_2 (Dense)              (None, 1, 1, 2)           514       \n",
      "_________________________________________________________________\n",
      "act_linear (Activation)      (None, 1, 1, 2)           0         \n",
      "_________________________________________________________________\n",
      "reshape_2 (Reshape)          (None, 2)                 0         \n",
      "=================================================================\n",
      "Total params: 3,491,778\n",
      "Trainable params: 262,914\n",
      "Non-trainable params: 3,228,864\n",
      "_________________________________________________________________\n"
     ]
    }
   ],
   "source": [
    "model.summary()"
   ]
  },
  {
   "cell_type": "markdown",
   "metadata": {},
   "source": [
    "## Train"
   ]
  },
  {
   "cell_type": "code",
   "execution_count": 12,
   "metadata": {
    "ExecuteTime": {
     "end_time": "2017-11-01T23:52:48.353979Z",
     "start_time": "2017-11-01T23:52:17.018358Z"
    },
    "scrolled": true
   },
   "outputs": [
    {
     "name": "stdout",
     "output_type": "stream",
     "text": [
      "Epoch 1/10\n",
      "359/359 [==============================] - 1s 3ms/step - loss: 1.7850\n",
      "Epoch 2/10\n",
      "359/359 [==============================] - 0s 879us/step - loss: 0.3685\n",
      "Epoch 3/10\n",
      "359/359 [==============================] - 0s 905us/step - loss: 0.2757\n",
      "Epoch 4/10\n",
      "359/359 [==============================] - 0s 882us/step - loss: 0.1308\n",
      "Epoch 5/10\n",
      "359/359 [==============================] - 0s 896us/step - loss: 0.0876\n",
      "Epoch 6/10\n",
      "359/359 [==============================] - 0s 849us/step - loss: 0.0770\n",
      "Epoch 7/10\n",
      "359/359 [==============================] - 0s 848us/step - loss: 0.0740\n",
      "Epoch 8/10\n",
      "359/359 [==============================] - 0s 838us/step - loss: 0.0717\n",
      "Epoch 9/10\n",
      "359/359 [==============================] - 0s 844us/step - loss: 0.0619\n",
      "Epoch 10/10\n",
      "359/359 [==============================] - 0s 880us/step - loss: 0.0612\n"
     ]
    },
    {
     "data": {
      "text/plain": [
       "<keras.callbacks.History at 0x7fb6ca1d05f8>"
      ]
     },
     "execution_count": 12,
     "metadata": {},
     "output_type": "execute_result"
    }
   ],
   "source": [
    "model.fit(x, y, batch_size=32, epochs=10, validation_split=.0)"
   ]
  },
  {
   "cell_type": "code",
   "execution_count": 13,
   "metadata": {},
   "outputs": [],
   "source": [
    "# for layer in model.layers:\n",
    "#     layer.trainable = True\n",
    "opt = Adam(lr=.0001)\n",
    "model.compile(optimizer=opt,loss='mean_squared_error')"
   ]
  },
  {
   "cell_type": "code",
   "execution_count": 14,
   "metadata": {},
   "outputs": [
    {
     "name": "stdout",
     "output_type": "stream",
     "text": [
      "Epoch 1/3\n",
      "359/359 [==============================] - 1s 1ms/step - loss: 0.0570\n",
      "Epoch 2/3\n",
      "359/359 [==============================] - 0s 862us/step - loss: 0.0522\n",
      "Epoch 3/3\n",
      "359/359 [==============================] - 0s 827us/step - loss: 0.0475\n"
     ]
    },
    {
     "data": {
      "text/plain": [
       "<keras.callbacks.History at 0x7fb6bd35fef0>"
      ]
     },
     "execution_count": 14,
     "metadata": {},
     "output_type": "execute_result"
    }
   ],
   "source": [
    "model.fit(x, y, batch_size=32, epochs=3, validation_split=.0)"
   ]
  },
  {
   "cell_type": "markdown",
   "metadata": {},
   "source": [
    "## Test"
   ]
  },
  {
   "cell_type": "code",
   "execution_count": 15,
   "metadata": {
    "ExecuteTime": {
     "end_time": "2017-11-01T23:59:25.782789Z",
     "start_time": "2017-11-01T23:59:25.780488Z"
    }
   },
   "outputs": [],
   "source": [
    "def vecToAngle(vec):\n",
    "    return np.degrees(np.arctan2(vec[1], vec[0]))"
   ]
  },
  {
   "cell_type": "code",
   "execution_count": 16,
   "metadata": {
    "ExecuteTime": {
     "end_time": "2017-11-01T23:59:26.588733Z",
     "start_time": "2017-11-01T23:59:25.963776Z"
    }
   },
   "outputs": [],
   "source": [
    "y_pred = model.predict(x_test)"
   ]
  },
  {
   "cell_type": "code",
   "execution_count": 17,
   "metadata": {
    "ExecuteTime": {
     "end_time": "2017-11-01T23:59:26.603588Z",
     "start_time": "2017-11-01T23:59:26.589778Z"
    }
   },
   "outputs": [
    {
     "name": "stdout",
     "output_type": "stream",
     "text": [
      "True Angle -1.0\n",
      "Pred Angle -17.3778\n"
     ]
    },
    {
     "data": {
      "image/png": "[encoded data removed]",
      "text/plain": [
       "<PIL.Image.Image image mode=RGB size=128x128 at 0x7FB50023D9E8>"
      ]
     },
     "execution_count": 17,
     "metadata": {},
     "output_type": "execute_result"
    }
   ],
   "source": [
    "# n = 61\n",
    "# n = 82\n",
    "n = np.random.randint(test)\n",
    "img = Image.fromarray(x_test[n])\n",
    "print(\"True Angle\", vecToAngle(y_test[n]))\n",
    "print(\"Pred Angle\", vecToAngle(y_pred[n]))\n",
    "img"
   ]
  },
  {
   "cell_type": "code",
   "execution_count": 18,
   "metadata": {
    "ExecuteTime": {
     "end_time": "2017-10-31T17:54:14.872612Z",
     "start_time": "2017-10-31T17:54:14.869202Z"
    }
   },
   "outputs": [
    {
     "data": {
      "text/plain": [
       "array([ 0.74789989, -0.23405965], dtype=float32)"
      ]
     },
     "execution_count": 18,
     "metadata": {},
     "output_type": "execute_result"
    }
   ],
   "source": [
    "y_pred.mean(axis=0)"
   ]
  },
  {
   "cell_type": "code",
   "execution_count": 19,
   "metadata": {
    "ExecuteTime": {
     "end_time": "2017-10-31T17:52:50.814153Z",
     "start_time": "2017-10-31T17:52:50.801632Z"
    }
   },
   "outputs": [
    {
     "name": "stdout",
     "output_type": "stream",
     "text": [
      "0.25692 0.49098\n"
     ]
    }
   ],
   "source": [
    "print(y_pred.mean(), y_pred.std())"
   ]
  },
  {
   "cell_type": "markdown",
   "metadata": {
    "collapsed": true
   },
   "source": [
    "## Export"
   ]
  },
  {
   "cell_type": "code",
   "execution_count": 20,
   "metadata": {
    "ExecuteTime": {
     "end_time": "2017-10-31T18:49:02.644624Z",
     "start_time": "2017-10-31T18:49:00.507730Z"
    }
   },
   "outputs": [],
   "source": [
    "model.save('mobilenet_finetune.hdf5')"
   ]
  },
  {
   "cell_type": "code",
   "execution_count": null,
   "metadata": {},
   "outputs": [],
   "source": []
  }
 ],
 "metadata": {
  "kernelspec": {
   "display_name": "Python [conda env:DL-Keras]",
   "language": "python",
   "name": "conda-env-DL-Keras-py"
  },
  "language_info": {
   "codemirror_mode": {
    "name": "ipython",
    "version": 3
   },
   "file_extension": ".py",
   "mimetype": "text/x-python",
   "name": "python",
   "nbconvert_exporter": "python",
   "pygments_lexer": "ipython3",
   "version": "3.6.3"
  }
 },
 "nbformat": 4,
 "nbformat_minor": 2
}
