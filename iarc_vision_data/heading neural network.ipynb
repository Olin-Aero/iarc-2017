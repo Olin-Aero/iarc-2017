{
 "cells": [
  {
   "cell_type": "code",
   "execution_count": null,
   "metadata": {
    "collapsed": true
   },
   "outputs": [],
   "source": [
    "import os\n",
    "from PIL import Image\n",
    "from glob import glob\n",
    "import scipy.misc\n",
    "from random import randrange, randint, uniform\n",
    "import copy\n",
    "import math \n",
    "%matplotlib inline"
   ]
  },
  {
   "cell_type": "code",
   "execution_count": null,
   "metadata": {
    "collapsed": true
   },
   "outputs": [],
   "source": [
    "from keras.applications.vgg16 import VGG16\n",
    "# from keras.preprocessing.image import ImageDataGenerator\n",
    "# from keras.preprocessing import image\n",
    "# from keras.optimizers import Adam\n",
    "from keras.models import Sequential, Model\n",
    "# from keras.layers import Dropout, Flatten, Dense\n",
    "from keras.layers.core import Lambda\n",
    "# from keras.layers.normalization import BatchNormalization\n",
    "import keras.backend as K\n",
    "import tensorflow as tf"
   ]
  },
  {
   "cell_type": "code",
   "execution_count": null,
   "metadata": {
    "collapsed": true
   },
   "outputs": [],
   "source": [
    "class ImageGen():\n",
    "    def __init__(self):\n",
    "        self.base_dir = os.getcwd()\n",
    "        self.data_dir = os.path.join(self.base_dir, 'data')\n",
    "        self.crop_dir = os.path.join(self.data_dir, 'crops')\n",
    "        self.bg_dir = os.path.join(self.data_dir, 'bgs')\n",
    "        self.gen_dir = os.path.join(self.data_dir, 'gen')\n",
    "        self.ori_dir = os.path.join(self.data_dir, 'ori')\n",
    "        self.ori_csv = os.path.join(self.ori_dir, 'orientations.csv')\n",
    "        self.training_list = os.path.join(self.gen_dir, 'training_list.txt')"
   ]
  }
 ],
 "metadata": {
  "kernelspec": {
   "display_name": "Python [conda env:iarc_vision_gen]",
   "language": "python",
   "name": "conda-env-iarc_vision_gen-py"
  },
  "language_info": {
   "codemirror_mode": {
    "name": "ipython",
    "version": 3
   },
   "file_extension": ".py",
   "mimetype": "text/x-python",
   "name": "python",
   "nbconvert_exporter": "python",
   "pygments_lexer": "ipython3",
   "version": "3.6.2"
  }
 },
 "nbformat": 4,
 "nbformat_minor": 2
}
